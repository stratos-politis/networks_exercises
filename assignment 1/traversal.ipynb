{
 "cells": [
  {
   "cell_type": "code",
   "execution_count": 4,
   "metadata": {},
   "outputs": [],
   "source": [
    "import networkx as nx\n",
    "from collections import deque\n"
   ]
  },
  {
   "cell_type": "code",
   "execution_count": 5,
   "metadata": {},
   "outputs": [],
   "source": [
    "def traversal(graph : nx.Graph, source , mode : str) -> list:\n",
    "    \"\"\"Traverse graph by either BFS or DFS starting from given source node.\n",
    "\n",
    "    Args:\n",
    "        graph (nx.Graph): Input graph as networkx graph.\n",
    "        source: Source node for starting traversal.\n",
    "        mode (str): Either \"bfs\" or \"dfs\".\n",
    "\n",
    "    Returns:\n",
    "        list: List of nodes in visited order.\n",
    "    \"\"\"\n",
    "    \n",
    "    # Container for nodes that still need to be visited.\n",
    "    to_visit = deque()\n",
    "    to_visit.append(source)\n",
    "    visited = []\n",
    "    \n",
    "    # Proceed until no more nodes to visit.\n",
    "    while len(to_visit)>0:\n",
    "        # Extract next node to consider.\n",
    "        if mode == \"dfs\":\n",
    "            next = to_visit.pop()\n",
    "        elif mode == 'bfs':\n",
    "            next = to_visit.popleft()\n",
    "        else:\n",
    "            print(\"Unknown traversal mode. Aborting...\")\n",
    "            exit()\n",
    "        \n",
    "        # Add node to visited list.\n",
    "        visited.append(next)\n",
    "        \n",
    "        # Get neighbors of current node.\n",
    "        nbors = [n for n in graph.neighbors(next) if n not in visited and to_visit.count(n)==0]\n",
    "        if mode == 'bfs':\n",
    "            nbors = sorted(nbors)\n",
    "        elif mode == 'dfs':\n",
    "            nbors = sorted(nbors, reverse=True)\n",
    "        \n",
    "        # Add neighbors to to_visit container.\n",
    "        to_visit.extend(nbors)\n",
    "        \n",
    "    return visited"
   ]
  },
  {
   "cell_type": "code",
   "execution_count": 6,
   "metadata": {},
   "outputs": [
    {
     "name": "stdout",
     "output_type": "stream",
     "text": [
      "Order of visit: ['s', 1, 2, 3, 4, 5, 6, 7, 8, 9]\n"
     ]
    }
   ],
   "source": [
    "# Init examplary network from Exercise 2.\n",
    "g = nx.Graph()\n",
    "edges_list = [(1,2), (2,3), (2,5), (3,4), (4,5), (1, 's'), (5, 's'), ('s', 6), (6,7), (6,8), (8,9)]\n",
    "g.add_edges_from(edges_list)\n",
    "# nx.draw_networkx(g)\n",
    "\n",
    "# Init examplary directed network.\n",
    "#di_g = nx.DiGraph()\n",
    "#edges_list = [(1,2), (2,4), (2,3), (3,5), (5,2)]\n",
    "#di_g.add_edges_from(edges_list)\n",
    "#nx.draw_networkx(di_g, pos=nx.spring_layout(di_g))\n",
    "\n",
    "# Call traversal function.\n",
    "source = 's'\n",
    "order = traversal(g, source, \"dfs\")\n",
    "print(\"Order of visit:\", order)"
   ]
  },
  {
   "cell_type": "code",
   "execution_count": null,
   "metadata": {},
   "outputs": [],
   "source": []
  }
 ],
 "metadata": {
  "kernelspec": {
   "display_name": "Python 3 (ipykernel)",
   "language": "python",
   "name": "python3"
  },
  "language_info": {
   "codemirror_mode": {
    "name": "ipython",
    "version": 3
   },
   "file_extension": ".py",
   "mimetype": "text/x-python",
   "name": "python",
   "nbconvert_exporter": "python",
   "pygments_lexer": "ipython3",
   "version": "3.11.5"
  }
 },
 "nbformat": 4,
 "nbformat_minor": 4
}
