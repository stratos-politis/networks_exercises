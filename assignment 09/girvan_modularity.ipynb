{
 "cells": [
  {
   "cell_type": "code",
   "execution_count": 1,
   "metadata": {},
   "outputs": [],
   "source": [
    "import networkx as nx"
   ]
  },
  {
   "cell_type": "code",
   "execution_count": 2,
   "metadata": {},
   "outputs": [],
   "source": [
    "def girvan_newman_with_modularity(graph : nx.Graph, threshold : float):\n",
    "    \"\"\"Computes clustering hierarchy from Girvan-Newman algorithm with\n",
    "    given certain modularity threshold.\n",
    "\n",
    "    Args:\n",
    "        graph (nx.Graph): Input network.\n",
    "        threshold (float): Modularity threshold.\n",
    "    \"\"\"\n",
    "    clusterings = nx.community.girvan_newman(graph)\n",
    "    \n",
    "    for clustering in clusterings:\n",
    "        modularity = nx.community.modularity(graph, list(clustering))\n",
    "        if modularity >= threshold:\n",
    "            return clustering\n",
    "    \n",
    "    print(\"No clustering with modularity above given threshold exists. Returning empty partitioning.\")\n",
    "    empty = ()\n",
    "    return empty"
   ]
  },
  {
   "cell_type": "code",
   "execution_count": null,
   "metadata": {},
   "outputs": [],
   "source": [
    "graph = nx.karate_club_graph()\n",
    "THRESHOLD = 0.3\n",
    "clustering = girvan_newman_with_modularity(graph, THRESHOLD)\n",
    "print(clustering)\n",
    "\n",
    "if clustering != ():\n",
    "    # Transform clustering for plotting functionality.\n",
    "    cluster_ids = [-1] * graph.number_of_nodes()\n",
    "    clustering = list(clustering)\n",
    "    id_counter = 0\n",
    "    for cluster in clustering:\n",
    "        for node in cluster:\n",
    "            cluster_ids[node] = id_counter\n",
    "        id_counter = id_counter + 1\n",
    "\n",
    "    nx.draw_networkx(graph, node_color=cluster_ids)"
   ]
  }
 ],
 "metadata": {
  "kernelspec": {
   "display_name": "Python 3 (ipykernel)",
   "language": "python",
   "name": "python3"
  },
  "language_info": {
   "codemirror_mode": {
    "name": "ipython",
    "version": 3
   },
   "file_extension": ".py",
   "mimetype": "text/x-python",
   "name": "python",
   "nbconvert_exporter": "python",
   "pygments_lexer": "ipython3",
   "version": "3.10.12"
  }
 },
 "nbformat": 4,
 "nbformat_minor": 4
}
