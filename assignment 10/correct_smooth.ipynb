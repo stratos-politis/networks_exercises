{
 "cells": [
  {
   "cell_type": "code",
   "execution_count": 11,
   "metadata": {},
   "outputs": [],
   "source": [
    "import networkx as nx\n",
    "import numpy as np"
   ]
  },
  {
   "cell_type": "code",
   "execution_count": 12,
   "metadata": {},
   "outputs": [],
   "source": [
    "def generate_example_graph():\n",
    "    \"\"\"Generates example graph from lecture with soft predictions.\n",
    "    \"\"\"\n",
    "    graph = nx.Graph()\n",
    "    graph.add_nodes_from([\n",
    "    (1, {'label': 0, 'p_s': 0.05}),\n",
    "    (2, {\"label\": 0, 'p_s': 0.30}),\n",
    "    (3, { 'p_s': 0.60}),\n",
    "    (4, { 'p_s': 0.20}),\n",
    "    (5, {'p_s': 0.90}),\n",
    "    (6,{ \"label\": 1,'p_s': 0.60}),\n",
    "    (7, {\"label\": 1, 'p_s': 0.95}),\n",
    "    (8, { 'p_s': 0.4}),\n",
    "    (9, { 'p_s': 0.80})])\n",
    "\n",
    "    graph.add_edges_from([(1,2),(1,3), (2,3), (1,4), (3,4), (4,5), (4,6), (5,6), (5, 7), (6,8), (7,8), (7,9)])\n",
    "    return graph"
   ]
  },
  {
   "cell_type": "code",
   "execution_count": 13,
   "metadata": {},
   "outputs": [],
   "source": [
    "def compute_node_errors(graph : nx.Graph) -> nx.Graph:\n",
    "    \"\"\"Compute per-node prediction errors of base predictor.\n",
    "\n",
    "    Args:\n",
    "        grpah (nx.Graph): Input network with precomputed softlabels on nodes.\n",
    "\n",
    "    Returns:\n",
    "        nx.Graph: Input network with computed errors as node features.\n",
    "    \"\"\"\n",
    "    for g in graph.nodes.data():\n",
    "        # Check if node has \"hard-label\".\n",
    "        if 'label' in g[1]:\n",
    "            # Attention: 'label' == 1 corresponds to vector (1,0).\n",
    "            g[1]['error'] = ( (g[1]['label']-g[1]['p_s']), (1-g[1]['label']-(1-g[1]['p_s'])) )\n",
    "        # Otherwise error is zero anyways.\n",
    "        else:\n",
    "            g[1]['error'] = (0.0,0.0)\n",
    "    \n",
    "    return graph"
   ]
  },
  {
   "cell_type": "code",
   "execution_count": 14,
   "metadata": {},
   "outputs": [],
   "source": [
    "def get_normalized_adj(graph : nx.Graph) -> np.array:\n",
    "    \"\"\"Compute normalized adjacency matrix of given networkx graph.\n",
    "\n",
    "    Args:\n",
    "        graph (nx.Graph): Input network.\n",
    "\n",
    "    Returns:\n",
    "        np.array: Normalized adj matrix.\n",
    "    \"\"\"\n",
    "    adj = nx.adjacency_matrix(graph).todense()\n",
    "    deg = graph.degree\n",
    "    deg_list = []\n",
    "    for d in deg:\n",
    "        deg_list.append(1/d[1])\n",
    "\n",
    "    deg = np.diag(deg_list)\n",
    "    de12= np.sqrt(deg)\n",
    "\n",
    "    A = np.dot(de12, np.dot(adj, de12))\n",
    "    return A"
   ]
  },
  {
   "cell_type": "code",
   "execution_count": 15,
   "metadata": {},
   "outputs": [],
   "source": [
    "def get_start_error_matrix(graph : nx.Graph) -> np.array:\n",
    "    \"\"\"Transform node labels storing node errors into numpy matrix.\n",
    "\n",
    "    Args:\n",
    "        graph (nx.Graph): Input network with nodewise prediction errors.\n",
    "\n",
    "    Returns:\n",
    "        np.array: Matrix storing nodes in rows and errors in columns.\n",
    "    \"\"\"\n",
    "    error_list = []\n",
    "    for g in graph.nodes.data():\n",
    "        row = [g[1]['error'][0], g[1]['error'][1]]\n",
    "        error_list.append(row)\n",
    "    error_matrix = np.array(error_list)\n",
    "    return error_matrix "
   ]
  },
  {
   "cell_type": "code",
   "execution_count": 16,
   "metadata": {},
   "outputs": [],
   "source": [
    "def correct(graph : nx.Graph, start_errors : np.array, adj_matrix : np.array, alpha : float, s : float) -> np.array:\n",
    "    \"\"\"Correct step of C&S method.\n",
    "\n",
    "    Args:\n",
    "        start_erros (np.array): Initial prediction errors. Rows correspond to nodes.\n",
    "        adj_matrix (np.array): Normalized adjacency matrix of input network.\n",
    "        alpha (float): Hyperparameter.\n",
    "\n",
    "    Returns:\n",
    "        np.array: Corrected soft label matrix.\n",
    "    \"\"\"\n",
    "    NUM_RUNS = 100\n",
    "    error_t = start_errors\n",
    "    # Propagate error over network.\n",
    "    for _ in range(NUM_RUNS):\n",
    "        error_t = (1-alpha) * start_errors + alpha * (adj_matrix @ error_t)\n",
    "    \n",
    "    # Add diffused errors to predicted soft labels.\n",
    "    soft_label_list = []\n",
    "    for node in graph.nodes.data():\n",
    "        soft_label = [node[1]['p_s'], 1-node[1]['p_s']]\n",
    "        soft_label_list.append(soft_label)\n",
    "    soft_label_matrix = np.array(soft_label_list)\n",
    "    output = soft_label_matrix + s * error_t\n",
    "    return output"
   ]
  },
  {
   "cell_type": "code",
   "execution_count": 17,
   "metadata": {},
   "outputs": [],
   "source": [
    "def replace_corrected_labels(graph : nx.Graph, corrected_soft_labels : np.array) -> np.array:\n",
    "    \"\"\"Replaces corrected soft labels matrix with 0-1 labels for labeled nodes.\n",
    "\n",
    "    Args:\n",
    "        graph (nx.Graph): Input network.\n",
    "        corrected_soft_labels (np.array): Corrected soft label matrix.\n",
    "\n",
    "    Returns:\n",
    "        np.array: Corrected soft label matrix with replaced 0-1 rows for labeled nodes.\n",
    "    \"\"\"\n",
    "    for node in graph.nodes.data():\n",
    "        node_id = node[0]\n",
    "        # Check if node has \"hard label\".\n",
    "        if 'label' in node[1]:\n",
    "            # Change row to hard label.\n",
    "            row = [node[1]['label'], 1-node[1]['label']]\n",
    "            corrected_soft_labels[node_id-1, :] = row\n",
    "    return corrected_soft_labels\n",
    "        "
   ]
  },
  {
   "cell_type": "code",
   "execution_count": 18,
   "metadata": {},
   "outputs": [],
   "source": [
    "def smooth(z_matrix : np.array, adj_matrix : np.array, alpha : float)-> np.array:\n",
    "    \"\"\"Run smoothing of errors.\n",
    "\n",
    "    Args:\n",
    "        z_matrix (np.array): Corrected and replaced soft labels with nodes as rows.\n",
    "        adj_matrix (np.array): Normalized adjacency matrix of input network.\n",
    "        alpha (float): Diffusion parameter for propagation.\n",
    "\n",
    "    Returns:\n",
    "        np.array: Resulting classification probabilities.\n",
    "    \"\"\"\n",
    "    NUM_RUNS = 100\n",
    "    z_t = z_matrix\n",
    "    for _ in range(NUM_RUNS):\n",
    "        z_t = (1-alpha) * z_matrix + alpha * (adj_matrix @ z_t)\n",
    "    return z_t"
   ]
  },
  {
   "cell_type": "code",
   "execution_count": 19,
   "metadata": {},
   "outputs": [],
   "source": [
    "def classify_nodes(graph : nx.Graph, results : np.array) -> dict:\n",
    "    \"\"\"Classify nodes based on compute probabilities of C&S.\n",
    "\n",
    "    Args:\n",
    "        graph (nx.Graph): Input network.\n",
    "        results (np.array): Matrix storing class probabilities.\n",
    "\n",
    "    Returns:\n",
    "        dict: Each index stores class of corresponding node.\n",
    "    \"\"\"\n",
    "    classes = dict()\n",
    "    for node in graph.nodes.data():\n",
    "        node_id = node[0]\n",
    "        if 'label' in node[1]:\n",
    "            node_class = node[1]['label']\n",
    "        else:\n",
    "            node_class = 1-np.argmax(results[node_id-1, :])\n",
    "        classes[node_id] = node_class\n",
    "    return classes    "
   ]
  },
  {
   "cell_type": "code",
   "execution_count": 20,
   "metadata": {},
   "outputs": [
    {
     "name": "stdout",
     "output_type": "stream",
     "text": [
      "{1: 0, 2: 0, 3: 0, 4: 0, 5: 1, 6: 1, 7: 1, 8: 1, 9: 1}\n"
     ]
    }
   ],
   "source": [
    "graph = generate_example_graph()\n",
    "\n",
    "# Compute node-wise prediction errors.\n",
    "graph = compute_node_errors(graph)\n",
    "\n",
    "# Get normalized adjcaceny matrix of graph.\n",
    "normalized_adj = get_normalized_adj(graph)\n",
    "start_errors = get_start_error_matrix(graph)\n",
    "\n",
    "### CORRECT STEP ###\n",
    "alpha = 0.85\n",
    "s = 2\n",
    "corrected_soft_labels = correct(graph, start_errors, normalized_adj, alpha, s)\n",
    "\n",
    "# Replace soft labels for labeled nodes.\n",
    "z_matrix = replace_corrected_labels(graph, corrected_soft_labels)\n",
    "\n",
    "### SMOOTH ###\n",
    "result_probs = smooth(z_matrix, normalized_adj, alpha)\n",
    " \n",
    "# Classify nodes.\n",
    "classification = classify_nodes(graph, result_probs)\n",
    "print(classification)\n"
   ]
  }
 ],
 "metadata": {
  "kernelspec": {
   "display_name": "base",
   "language": "python",
   "name": "python3"
  },
  "language_info": {
   "codemirror_mode": {
    "name": "ipython",
    "version": 3
   },
   "file_extension": ".py",
   "mimetype": "text/x-python",
   "name": "python",
   "nbconvert_exporter": "python",
   "pygments_lexer": "ipython3",
   "version": "3.11.5"
  }
 },
 "nbformat": 4,
 "nbformat_minor": 2
}
