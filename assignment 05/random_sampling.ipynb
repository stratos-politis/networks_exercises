{
 "cells": [
  {
   "cell_type": "code",
   "execution_count": 45,
   "id": "b965a6f8-2334-4fab-a1b8-5a32f7a97ad5",
   "metadata": {},
   "outputs": [],
   "source": [
    "import networkx as nx\n",
    "import numpy as np\n",
    "import random\n",
    "import statistics"
   ]
  },
  {
   "cell_type": "code",
   "execution_count": 46,
   "id": "2eb9e61c-8dcd-45cc-b1e1-766711a760fb",
   "metadata": {},
   "outputs": [],
   "source": [
    "def const_probability(depth):\n",
    "    # Return constant probability independent of depth.\n",
    "    return 0.98"
   ]
  },
  {
   "cell_type": "code",
   "execution_count": 47,
   "id": "0c775695-b048-4ac2-9a5f-995bcc108163",
   "metadata": {},
   "outputs": [],
   "source": [
    "def prob_one(depth):\n",
    "    return 1.0"
   ]
  },
  {
   "cell_type": "code",
   "execution_count": 48,
   "id": "445f19a0-621a-4c4f-8af3-5634489211a3",
   "metadata": {},
   "outputs": [],
   "source": [
    "def decay_probability(depth):\n",
    "    # Return decaying probability with recursion depth.\n",
    "    return 1.0/depth"
   ]
  },
  {
   "cell_type": "code",
   "execution_count": 49,
   "id": "8b5a60ed-1b41-4508-bd77-e6c2d081fd86",
   "metadata": {},
   "outputs": [],
   "source": [
    "def pop_next_node(V_extension):\n",
    "    i = np.random.randint(len(V_extension))\n",
    "    V_extension[i], V_extension[-1] = V_extension[-1], V_extension[i]\n",
    "    return V_extension.pop()\n",
    "\n",
    "def get_exclusive_neighbors(V_subgraph, next_node, v, graph):\n",
    "    current_neighbors = []\n",
    "    for u in V_subgraph:\n",
    "        current_neighbors += list(nx.neighbors(graph, u))\n",
    "    current_neighbors = set(current_neighbors + V_subgraph)\n",
    "    exclusive_neighbors = []\n",
    "    for neighbor in nx.neighbors(graph, next_node):\n",
    "            if neighbor > v and neighbor not in current_neighbors:\n",
    "                exclusive_neighbors.append(neighbor)\n",
    "    return exclusive_neighbors"
   ]
  },
  {
   "cell_type": "code",
   "execution_count": 50,
   "id": "7b16bd65-d793-4014-aef8-811ec045bba1",
   "metadata": {},
   "outputs": [],
   "source": [
    "def extend_subgraph(V_subgraph, V_extension, v, k, graph, all_subgraphs, depth, prob_function):\n",
    "    if len(V_subgraph) == k:\n",
    "        all_subgraphs.append(nx.induced_subgraph(graph, V_subgraph))\n",
    "        return\n",
    "    while len(V_extension) > 0:\n",
    "        next_node = pop_next_node(V_extension)\n",
    "        exclusive_neighbors = get_exclusive_neighbors(V_subgraph, next_node, v, graph)\n",
    "        # Recurse down only with given probability.\n",
    "        prob = prob_function(depth)\n",
    "        if random.random() <= prob:\n",
    "            extend_subgraph(V_subgraph + [next_node], V_extension + exclusive_neighbors, v, k, graph, all_subgraphs, depth+1, prob_function)\n",
    "        \n",
    "def enumerate_subgraphs(graph, k, prob_function):\n",
    "    all_subgraphs = []\n",
    "    for v in range(graph.number_of_nodes()):\n",
    "        V_subgraph = [v]\n",
    "        V_extension = [neighbor for neighbor in nx.neighbors(graph, v) if neighbor > v]\n",
    "        # Only process node with probability p0.\n",
    "        prob = prob_function(1)\n",
    "        if random.random() <= prob:\n",
    "            extend_subgraph(V_subgraph, V_extension, v, k, graph, all_subgraphs, 2, prob_function)\n",
    "    return all_subgraphs"
   ]
  },
  {
   "cell_type": "code",
   "execution_count": 51,
   "id": "b73f1513-e2a2-42f2-89fe-2e2b3a53332f",
   "metadata": {},
   "outputs": [],
   "source": [
    "def to_equivalence_classes(all_subgraphs):\n",
    "    representatives = []\n",
    "    counts = []\n",
    "    num_classes = 0\n",
    "    for subgraph in all_subgraphs:\n",
    "        new_class = True\n",
    "        for i in range(num_classes):\n",
    "            if nx.is_isomorphic(subgraph, representatives[i]):\n",
    "                counts[i] += 1\n",
    "                new_class = False\n",
    "                break\n",
    "        if new_class:\n",
    "            representatives.append(subgraph)\n",
    "            counts.append(1)\n",
    "            num_classes += 1\n",
    "    return list(zip(representatives,counts,[count / len(all_subgraphs) for count in counts]))"
   ]
  },
  {
   "cell_type": "code",
   "execution_count": 52,
   "id": "bbe0bdda-d01b-4d7c-b24a-49f8fb9bd683",
   "metadata": {},
   "outputs": [
    {
     "data": {
      "image/png": "[encoded data removed]",
      "text/plain": [
       "<Figure size 640x480 with 1 Axes>"
      ]
     },
     "metadata": {},
     "output_type": "display_data"
    }
   ],
   "source": [
    "graph = nx.Graph([(7,2),(8,2),(2,0),(2,1),(3,0),(0,1),(1,6),(0,4),(1,5)])\n",
    "pos = nx.spring_layout(graph)\n",
    "nx.draw_networkx(graph, pos=pos)"
   ]
  },
  {
   "cell_type": "code",
   "execution_count": 53,
   "id": "1ef42a0b-6650-44d7-8d67-cb1361ba6ae9",
   "metadata": {},
   "outputs": [
    {
     "name": "stdout",
     "output_type": "stream",
     "text": [
      "Number of equivalence classes: 2\n",
      "[(<networkx.classes.graph.Graph object at 0x72c204d96d40>, 15, 0.9375), (<networkx.classes.graph.Graph object at 0x72c204d951e0>, 1, 0.0625)]\n"
     ]
    }
   ],
   "source": [
    "all_subgraphs = enumerate_subgraphs(graph, 3, prob_one)\n",
    "equivalence_classes = to_equivalence_classes(all_subgraphs)\n",
    "print(f'Number of equivalence classes: {len(equivalence_classes)}')\n",
    "print(equivalence_classes)"
   ]
  },
  {
   "cell_type": "code",
   "execution_count": 54,
   "id": "92b5f614-c8d6-437d-8c93-0ddbdeb4bdef",
   "metadata": {},
   "outputs": [
    {
     "name": "stdout",
     "output_type": "stream",
     "text": [
      "Concentration 1: 0.9375\n",
      "Concentration 2: 0.0625\n"
     ]
    }
   ],
   "source": [
    "if len(equivalence_classes)==1:\n",
    "    equivalence_classes.append((nx.Graph(), 0, 0.0))\n",
    "\n",
    "print(f'Concentration 1: {equivalence_classes[0][2]}')\n",
    "print(f'Concentration 2: {equivalence_classes[1][2]}')\n",
    "#nx.draw(equivalence_classes[0][0])\n",
    "#nx.draw(equivalence_classes[1][0])"
   ]
  },
  {
   "cell_type": "code",
   "execution_count": 55,
   "id": "51c5523a-435f-4d3d-a7da-22da66654eac",
   "metadata": {},
   "outputs": [
    {
     "name": "stdout",
     "output_type": "stream",
     "text": [
      "Mean concentration of class is: 0.9388818334443334.\n",
      "Mean concentration of class is: 0.06522749899217349.\n"
     ]
    }
   ],
   "source": [
    "# Compute both eq. class once before.\n",
    "all_subgraphs = enumerate_subgraphs(graph, 3, prob_one)\n",
    "equivalence_classes = to_equivalence_classes(all_subgraphs)\n",
    "samples = {equivalence_classes[0][0]: [], equivalence_classes[1][0]: []}\n",
    "\n",
    "# Compute mean of several random sampling runs.\n",
    "NUM_RUNS = 1000\n",
    "for _ in range(NUM_RUNS):\n",
    "    all_subgraphs = enumerate_subgraphs(graph, 3, const_probability)\n",
    "    equivalence_classes = to_equivalence_classes(all_subgraphs)\n",
    "\n",
    "    # Store sampled concentration in corresponding entry.\n",
    "    for el in equivalence_classes:\n",
    "        for key, val in samples.items():\n",
    "            if nx.is_isomorphic(el[0], key):\n",
    "                val.append(el[2])\n",
    "\n",
    "# Compute mean of both sampled classes.\n",
    "for key, val in samples.items():\n",
    "    print(f'Mean concentration of class is: {statistics.mean(val)}.')\n",
    "    "
   ]
  }
 ],
 "metadata": {
  "kernelspec": {
   "display_name": "Python 3 (ipykernel)",
   "language": "python",
   "name": "python3"
  },
  "language_info": {
   "codemirror_mode": {
    "name": "ipython",
    "version": 3
   },
   "file_extension": ".py",
   "mimetype": "text/x-python",
   "name": "python",
   "nbconvert_exporter": "python",
   "pygments_lexer": "ipython3",
   "version": "3.10.12"
  }
 },
 "nbformat": 4,
 "nbformat_minor": 5
}
