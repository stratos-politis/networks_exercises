{
 "cells": [
  {
   "cell_type": "code",
   "execution_count": 13,
   "metadata": {},
   "outputs": [],
   "source": [
    "import numpy as np"
   ]
  },
  {
   "cell_type": "code",
   "execution_count": 14,
   "metadata": {},
   "outputs": [],
   "source": [
    "def generate_simple_edge_stream():\n",
    "    edges = [(0,1,1,1), (1,2,2,2), (1,2,3,2), (0,2,3,2)]\n",
    "    edges = sorted(edges, key=lambda x: x[2])\n",
    "    return edges"
   ]
  },
  {
   "cell_type": "code",
   "execution_count": 15,
   "metadata": {},
   "outputs": [],
   "source": [
    "def remove_dominated(tuples_list):\n",
    "    dominated = set()\n",
    "    for tup1 in tuples_list:\n",
    "        for tup2 in tuples_list:\n",
    "            if tup1 != tup2:\n",
    "                if tup2[0] > tup1[0] and tup2[1]<=tup1[1]:\n",
    "                    dominated.add(tup1)\n",
    "                elif tup2[0]==tup1[0] and tup2[1]<tup1[1]:\n",
    "                    dominated.add(tup1)\n",
    "    \n",
    "    # Remove dominated element from input list.\n",
    "    cleared_list = [tup for tup in tuples_list if not tup in dominated]\n",
    "    return cleared_list"
   ]
  },
  {
   "cell_type": "code",
   "execution_count": 16,
   "metadata": {},
   "outputs": [
    {
     "name": "stdout",
     "output_type": "stream",
     "text": [
      "Before pruning: [(1, 5), (1, 4), (3, 7), (4, 6)]\n",
      "After pruning: [(1, 4), (4, 6)]\n"
     ]
    }
   ],
   "source": [
    "tuple_list = [(1,5), (1,4), (3,7), (4,6)]\n",
    "cleared_list = remove_dominated(tuple_list)\n",
    "print(\"Before pruning:\", tuple_list)\n",
    "print(\"After pruning:\", cleared_list)"
   ]
  },
  {
   "cell_type": "code",
   "execution_count": 17,
   "metadata": {},
   "outputs": [
    {
     "name": "stdout",
     "output_type": "stream",
     "text": [
      "Generated network: [(0, 1, 1, 1), (1, 2, 2, 2), (1, 2, 3, 2), (0, 2, 3, 2)]\n",
      "Shortest durations: {0: 0, 1: 1, 2: 2}\n"
     ]
    }
   ],
   "source": [
    "def fastest_path(network: list, source, t_alpha, t_omega):\n",
    "    \"\"\"Computes fastest paths from source to any other node in given network.\n",
    "\n",
    "    Args:\n",
    "        network (list): Network represented as edge stream.\n",
    "        source (_type_): ID of source node.\n",
    "        t_alpha (_type_): Lower bound of considered time interval.\n",
    "        t_omega (_type_): Upper bound of considered time interval.\n",
    "    \"\"\"\n",
    "    # Extract complete set of nodes from edge stream representation.\n",
    "    node_set = set()\n",
    "    for edge in network:\n",
    "        node_set.add(edge[0])\n",
    "        node_set.add(edge[1])\n",
    "    \n",
    "    # Init dict to store lists L_v for each node v.\n",
    "    start_arrival_times = {node : set() for node in node_set}\n",
    "    durations = {node : np.infty for node in node_set}\n",
    "    durations[source] = 0\n",
    "    \n",
    "    # Process all edges in edge stream.\n",
    "    for edge in network:\n",
    "        u = edge[0]\n",
    "        v = edge[1]\n",
    "        t = edge[2]\n",
    "        lam = edge[3]\n",
    "        # Check if edge contained in time interval.\n",
    "        if t < t_alpha or t + lam > t_omega:\n",
    "            continue\n",
    "        \n",
    "        # Check if time point outside time interval.\n",
    "        if t >= t_omega:\n",
    "            break\n",
    "         \n",
    "        # Source and arrival time of source node is equal.\n",
    "        if u == source:\n",
    "            start_arrival_times[source].add((t,t))\n",
    "            \n",
    "        # Extract element in L_u with highest arrival time (and due to Lemma 11 also highest\n",
    "        # starting time) and thus best potential to contribute to final fastest path.\n",
    "        max_start_arrival = max(start_arrival_times[u], key=lambda x: x[1])\n",
    "        s_v = max_start_arrival[0]\n",
    "        a_v = t + lam\n",
    "        \n",
    "        # Update or insert start-arrival tuple for node v.\n",
    "        v_updated = {x for x in start_arrival_times[v] if x[0]!=s_v}\n",
    "        v_updated.add((s_v, a_v))\n",
    "        start_arrival_times[v] = v_updated\n",
    "        \n",
    "        # Remove dominated elements.\n",
    "        cleared_list = remove_dominated(start_arrival_times[v])\n",
    "        start_arrival_times[v] = cleared_list\n",
    "        \n",
    "        # Check if to update fastes path distance of v.\n",
    "        if a_v - s_v < durations[v]:\n",
    "            durations[v] = a_v - s_v\n",
    "        \n",
    "        \n",
    "    return durations\n",
    "\n",
    "network = generate_simple_edge_stream()\n",
    "print(\"Generated network:\", network)\n",
    "fastes_durations = fastest_path(network, 0, 0, 10)\n",
    "print(\"Shortest durations:\", fastes_durations)"
   ]
  }
 ],
 "metadata": {
  "kernelspec": {
   "display_name": "Python 3 (ipykernel)",
   "language": "python",
   "name": "python3"
  },
  "language_info": {
   "codemirror_mode": {
    "name": "ipython",
    "version": 3
   },
   "file_extension": ".py",
   "mimetype": "text/x-python",
   "name": "python",
   "nbconvert_exporter": "python",
   "pygments_lexer": "ipython3",
   "version": "3.10.12"
  }
 },
 "nbformat": 4,
 "nbformat_minor": 4
}
